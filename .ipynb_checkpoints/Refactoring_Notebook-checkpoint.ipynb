{
 "metadata": {
  "name": "",
  "signature": "sha256:e76e722bba96e32dfdb7bcf5e653f4574b6ead76b4921bdae96760a1443ad918"
 },
 "nbformat": 3,
 "nbformat_minor": 0,
 "worksheets": [
  {
   "cells": [
    {
     "cell_type": "code",
     "collapsed": false,
     "input": [
      "data = \"\"\"       \n",
      "\n",
      "            this.PinX = this.AddCell(ShapeSheet.SRCConstants.PinX, \"PinX\");\n",
      "            this.PinY = this.AddCell(ShapeSheet.SRCConstants.PinY, \"PinY\");\n",
      "            this.LocPinX = this.AddCell(ShapeSheet.SRCConstants.LocPinX, \"LocPinX\");\n",
      "            this.LocPinY = this.AddCell(ShapeSheet.SRCConstants.LocPinY, \"LocPinY\");\n",
      "            this.Width = this.AddCell(ShapeSheet.SRCConstants.Width, \"Width\");\n",
      "            this.Height = this.AddCell(ShapeSheet.SRCConstants.Height, \"Height\");\n",
      "            this.Angle = this.AddCell(ShapeSheet.SRCConstants.Angle, \"Angle\");\n",
      "            \n",
      "            \"\"\"\n"
     ],
     "language": "python",
     "metadata": {},
     "outputs": [],
     "prompt_number": 59
    },
    {
     "cell_type": "code",
     "collapsed": false,
     "input": [
      "import re\n",
      "\n",
      "splitter = re.compile('\\)|\\(|;|,')\n",
      "\n",
      "lines = data.strip()\n",
      "lines = lines.split(\"\\n\")\n",
      "lines = [ s.strip() for s in lines ]\n",
      "lines = [ s for s in lines if len(s)>0 ]\n",
      "for line in lines :\n",
      "    tokens = re.split('\\)|\\(|;|,',line)\n",
      "    tokens[2] = \"nameof(\" +tokens[1] + \")\"\n",
      "    new_line = tokens[0] + \"(\" + tokens[1] + \", \" + tokens[2] + \");\"\n",
      "    print(new_line)"
     ],
     "language": "python",
     "metadata": {},
     "outputs": [
      {
       "output_type": "stream",
       "stream": "stdout",
       "text": [
        "this.PinX = this.AddCell(ShapeSheet.SRCConstants.PinX, nameof(ShapeSheet.SRCConstants.PinX));\n",
        "this.PinY = this.AddCell(ShapeSheet.SRCConstants.PinY, nameof(ShapeSheet.SRCConstants.PinY));\n",
        "this.LocPinX = this.AddCell(ShapeSheet.SRCConstants.LocPinX, nameof(ShapeSheet.SRCConstants.LocPinX));\n",
        "this.LocPinY = this.AddCell(ShapeSheet.SRCConstants.LocPinY, nameof(ShapeSheet.SRCConstants.LocPinY));\n",
        "this.Width = this.AddCell(ShapeSheet.SRCConstants.Width, nameof(ShapeSheet.SRCConstants.Width));\n",
        "this.Height = this.AddCell(ShapeSheet.SRCConstants.Height, nameof(ShapeSheet.SRCConstants.Height));\n",
        "this.Angle = this.AddCell(ShapeSheet.SRCConstants.Angle, nameof(ShapeSheet.SRCConstants.Angle));\n"
       ]
      }
     ],
     "prompt_number": 60
    },
    {
     "cell_type": "code",
     "collapsed": false,
     "input": [],
     "language": "python",
     "metadata": {},
     "outputs": [],
     "prompt_number": 33
    },
    {
     "cell_type": "code",
     "collapsed": false,
     "input": [],
     "language": "python",
     "metadata": {},
     "outputs": [],
     "prompt_number": 33
    },
    {
     "cell_type": "code",
     "collapsed": false,
     "input": [],
     "language": "python",
     "metadata": {},
     "outputs": [],
     "prompt_number": 33
    },
    {
     "cell_type": "code",
     "collapsed": false,
     "input": [],
     "language": "python",
     "metadata": {},
     "outputs": []
    }
   ],
   "metadata": {}
  }
 ]
}